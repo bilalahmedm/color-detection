{
 "cells": [
  {
   "cell_type": "code",
   "execution_count": 1,
   "id": "854136bd",
   "metadata": {},
   "outputs": [],
   "source": [
    "import cv2\n",
    "import numpy as np\n",
    "from matplotlib import pyplot as plt\n",
    "import time"
   ]
  },
  {
   "cell_type": "code",
   "execution_count": 2,
   "id": "f61efa48",
   "metadata": {},
   "outputs": [
    {
     "name": "stdout",
     "output_type": "stream",
     "text": [
      "[[112, 75, 75], [119, 255, 255]]\n"
     ]
    }
   ],
   "source": [
    "def nothing(x):\n",
    "    pass\n",
    "\n",
    "cv2.namedWindow(\"Trackbars\",cv2.WINDOW_NORMAL)\n",
    "\n",
    "cv2.createTrackbar(\"L - H\",\"Trackbars\",0,179,nothing)\n",
    "cv2.createTrackbar(\"L - S\",\"Trackbars\",0,255,nothing)\n",
    "cv2.createTrackbar(\"L - V\",\"Trackbars\",0,255,nothing)\n",
    "cv2.createTrackbar(\"U - H\",\"Trackbars\",179,179,nothing)\n",
    "cv2.createTrackbar(\"U - S\",\"Trackbars\",255,255,nothing)\n",
    "cv2.createTrackbar(\"U - V\",\"Trackbars\",255,255,nothing)\n",
    "\n",
    "while True:\n",
    "    frame = cv2.imread('shapescontour.jpg')\n",
    "    \n",
    "    l_h = cv2.getTrackbarPos(\"L - H\",\"Trackbars\")\n",
    "    l_s = cv2.getTrackbarPos(\"L - S\",\"Trackbars\")\n",
    "    l_v = cv2.getTrackbarPos(\"L - V\",\"Trackbars\")\n",
    "    u_h = cv2.getTrackbarPos(\"U - H\",\"Trackbars\")\n",
    "    u_s = cv2.getTrackbarPos(\"U - S\",\"Trackbars\")\n",
    "    u_v = cv2.getTrackbarPos(\"U - V\",\"Trackbars\")\n",
    "    \n",
    "    hsv = cv2.cvtColor(frame, cv2.COLOR_BGR2HSV)\n",
    "    \n",
    "    lower_range = np.array([l_h,l_s,l_v])\n",
    "    upper_range = np.array([u_h,u_s,u_v])\n",
    "    \n",
    "    mask = cv2.inRange(hsv,lower_range,upper_range)\n",
    "    \n",
    "    res = cv2.bitwise_and(frame,frame,mask=mask)\n",
    "    mask3 = cv2.cvtColor(mask, cv2.COLOR_GRAY2BGR)\n",
    "    \n",
    "    stacked = np.hstack((mask3,frame,res))\n",
    "    \n",
    "    cv2.imshow(\"Trackbars\",cv2.resize(stacked,(0,0),fx=0.4,fy=0.4))\n",
    "    k = cv2.waitKey(1)\n",
    "    if k == 27:\n",
    "        break\n",
    "    if k == ord('s'):\n",
    "        thearray = [[l_h,l_s,l_v], [u_h,u_s,u_v]]\n",
    "        print(thearray)\n",
    "        \n",
    "        np.save('color',thearray)\n",
    "        break\n",
    "        \n",
    "cv2.destroyAllWindows()"
   ]
  },
  {
   "cell_type": "code",
   "execution_count": 3,
   "id": "cbf48247",
   "metadata": {},
   "outputs": [],
   "source": [
    "useload = True\n",
    "\n",
    "if useload:\n",
    "    colorval = np.load('color.npy')\n",
    "\n",
    "kernel = cv2.getStructuringElement(cv2.MORPH_RECT, (5,5))\n",
    "\n",
    "\n",
    "while True:\n",
    "    frame = cv2.imread('shapescontour.jpg')\n",
    "    \n",
    "    hsv = cv2.cvtColor(frame, cv2.COLOR_BGR2HSV)\n",
    "    \n",
    "    if useload:\n",
    "        lower_range = colorval[0]\n",
    "        uppen_range = colorval[1]\n",
    "    else:\n",
    "        lower_range = [15, 74, 125]\n",
    "        uppen_range = [30, 255, 255]\n",
    "        \n",
    "    mask = cv2.inRange(hsv,lower_range,uppen_range)\n",
    "    mask = cv2.erode(mask,kernel,iterations=1)\n",
    "    mask = cv2.dilate(mask,kernel,iterations=2)\n",
    "    \n",
    "    contours, hierarchy = cv2.findContours(mask, cv2.RETR_EXTERNAL, cv2.CHAIN_APPROX_SIMPLE)\n",
    "    \n",
    "    if contours and cv2.contourArea(max(contours,key=cv2.contourArea)) > 1000:\n",
    "        cnt = max(contours,key=cv2.contourArea)\n",
    "        \n",
    "        cv2.drawContours(frame, [cnt], 0, (0,255,0), 3) \n",
    "\n",
    "#         x2,y2,w,h = cv2.boundingRect(cnt)\n",
    "#         cv2.rectangle(frame,(x2,y2),(x2+w,y2+h),(0,255,0),2)\n",
    "    \n",
    "    cv2.imshow('image',frame)\n",
    "    \n",
    "    k = cv2.waitKey(1)\n",
    "    if k == 27:\n",
    "        break\n",
    "    \n",
    "\n",
    "cv2.destroyAllWindows()"
   ]
  }
 ],
 "metadata": {
  "kernelspec": {
   "display_name": "Python 3 (ipykernel)",
   "language": "python",
   "name": "python3"
  },
  "language_info": {
   "codemirror_mode": {
    "name": "ipython",
    "version": 3
   },
   "file_extension": ".py",
   "mimetype": "text/x-python",
   "name": "python",
   "nbconvert_exporter": "python",
   "pygments_lexer": "ipython3",
   "version": "3.9.7"
  }
 },
 "nbformat": 4,
 "nbformat_minor": 5
}
